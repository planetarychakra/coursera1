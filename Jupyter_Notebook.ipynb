{
  "metadata": {
    "kernelspec": {
      "name": "python",
      "display_name": "Pyolite",
      "language": "python"
    },
    "language_info": {
      "codemirror_mode": {
        "name": "python",
        "version": 3
      },
      "file_extension": ".py",
      "mimetype": "text/x-python",
      "name": "python",
      "nbconvert_exporter": "python",
      "pygments_lexer": "ipython3",
      "version": "3.8"
    }
  },
  "nbformat_minor": 4,
  "nbformat": 4,
  "cells": [
    {
      "cell_type": "markdown",
      "source": "<center>\n    <img src=\"https://s3-api.us-geo.objectstorage.softlayer.net/cf-courses-data/CognitiveClass/Logos/organization_logo/organization_logo.png\" width=\"300\" alt=\"cognitiveclass.ai logo\"  />\n</center>\n",
      "metadata": {}
    },
    {
      "cell_type": "markdown",
      "source": "#### Add your code below following the instructions given in the course\n",
      "metadata": {}
    },
    {
      "cell_type": "markdown",
      "source": "<h1>My Jupyter Notebook on IBM Watson Studio</h1>",
      "metadata": {}
    },
    {
      "cell_type": "markdown",
      "source": "<b>Rodrigo Pietro Nunes de Oliveira</b><p>\n<b>Data Scientist</b></p>",
      "metadata": {}
    },
    {
      "cell_type": "markdown",
      "source": "<i>I am interested in Data Science because it would give me the necessary knowledge to help the environment as I grow in my engineer carreer especially in data for the environment</i> ",
      "metadata": {}
    },
    {
      "cell_type": "markdown",
      "source": "<h3>The code below converts USD to BRL for the table below:</h3>\n<h4>PREVIEW PRICE at july 25th, 2022</h4>\n\n| USD | BRL   |\n|------|------|\n|   9,928.13  | 53,314.06|\n",
      "metadata": {}
    },
    {
      "cell_type": "code",
      "source": "rate = 5.37\nusd_input = 9928.13\n\nprint(usd_input*rate)",
      "metadata": {
        "trusted": true
      },
      "execution_count": 9,
      "outputs": [
        {
          "name": "stdout",
          "text": "53314.058099999995\n",
          "output_type": "stream"
        }
      ]
    },
    {
      "cell_type": "markdown",
      "source": "<h3>The USD price above was predicted considering the following variables:</h3>\n<h4><ul>\n  <li>Supply and demand factors;</li>\n  <li>Sentiment and market psychology;</li>\n  <li>Technical factors.</li>\n    </ul></h4>\n\n<img src=\"https://www.investopedia.com/thmb/vvzKCc293Iq0ee5WKacF953VF20=/660x0/filters:no_upscale():max_bytes(150000):strip_icc():format(webp)/factors-drive-american-dollar-ADD-V2-16f5545751754a41814460df662694ef.jpg\"></img>\n\nSource:\n[Factors That Drive the U.S. Dollar](http://www.investopedia.com/articles/forex/09/factors-drive-american-dollar.asp)\n",
      "metadata": {}
    },
    {
      "cell_type": "code",
      "source": "",
      "metadata": {},
      "execution_count": null,
      "outputs": []
    }
  ]
}